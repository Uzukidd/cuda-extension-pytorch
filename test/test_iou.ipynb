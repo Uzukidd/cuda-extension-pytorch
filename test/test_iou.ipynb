{
 "cells": [
  {
   "cell_type": "code",
   "execution_count": 1,
   "metadata": {},
   "outputs": [],
   "source": [
    "from cudaext.ops.Rotated_IoU.oriented_iou_loss import cal_iou_3d, assign_target_3d\n",
    "import numpy as np\n",
    "import torch\n",
    "from cudaext.ops.Rotated_IoU.box_intersection_2d import box_intersection_th, box_in_box_th, oriented_box_intersection_2d\n",
    "from cudaext.ops.Rotated_IoU.utiles import box2corners, box_intersection, box_in_box, box_intersection_area"
   ]
  },
  {
   "cell_type": "code",
   "execution_count": 2,
   "metadata": {},
   "outputs": [
    {
     "name": "stdout",
     "output_type": "stream",
     "text": [
      "torch.Size([3, 7])\n",
      "torch.Size([2, 7])\n",
      "torch.Size([3])\n",
      "tensor([1.0000, 1.0000, 1.0000], device='cuda:0')\n",
      "torch.Size([3])\n",
      "tensor([1, 0, 1], device='cuda:0')\n"
     ]
    }
   ],
   "source": [
    "box1 = [0, 0, 0.0, 2, 3, 1, np.pi/6]\n",
    "box2 = [1, 1, 0.0, 4, 4, 1, np.pi/4]\n",
    "tensor1 = torch.FloatTensor(np.stack([box1, box2, box1], axis=0)).cuda()\n",
    "tensor2 = torch.FloatTensor(np.stack([box2, box1], axis=0)).cuda()\n",
    "\n",
    "print(tensor1.size())\n",
    "print(tensor2.size())\n",
    "iou_3d, assign_idx = assign_target_3d(tensor1, tensor2)\n",
    "\n",
    "print(iou_3d.size())\n",
    "print(iou_3d)\n",
    "print(assign_idx.size())\n",
    "print(assign_idx)"
   ]
  }
 ],
 "metadata": {
  "kernelspec": {
   "display_name": "env_cudaext",
   "language": "python",
   "name": "python3"
  },
  "language_info": {
   "codemirror_mode": {
    "name": "ipython",
    "version": 3
   },
   "file_extension": ".py",
   "mimetype": "text/x-python",
   "name": "python",
   "nbconvert_exporter": "python",
   "pygments_lexer": "ipython3",
   "version": "undefined.undefined.undefined"
  }
 },
 "nbformat": 4,
 "nbformat_minor": 2
}
