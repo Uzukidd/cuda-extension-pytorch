{
 "cells": [
  {
   "cell_type": "code",
   "execution_count": 1,
   "metadata": {},
   "outputs": [
    {
     "name": "stdout",
     "output_type": "stream",
     "text": [
      "   cuda fw time 0.04561972618103027 s\n",
      "pytorch fw time 0.2103290557861328 s\n",
      "fw all close True\n",
      "   cuda bw time 0.08999824523925781 s\n",
      "pytorch bw time 1.7275352478027344 s\n",
      "bw all close True\n"
     ]
    }
   ],
   "source": [
    "import time\n",
    "import torch\n",
    "from cudaext.ops.trilinear_interpolate.trilinear_interpolate_utils import *\n",
    "N = 65536\n",
    "F = 256\n",
    "rand = torch.rand(N, 8, F, device='cuda')\n",
    "feats = rand.clone().requires_grad_()\n",
    "feats2 = rand.clone().requires_grad_()\n",
    "points = torch.rand(N, 3, device='cuda')*2-1\n",
    "\n",
    "t = time.time()\n",
    "out_cuda = Trilinear_interpolation_cuda.apply(feats2, points)\n",
    "torch.cuda.synchronize()\n",
    "print('   cuda fw time', time.time()-t, 's')\n",
    "\n",
    "t = time.time()\n",
    "out_py = trilinear_interpolation_cpu(feats, points)\n",
    "torch.cuda.synchronize()\n",
    "print('pytorch fw time', time.time()-t, 's')\n",
    "\n",
    "print('fw all close', torch.allclose(out_py, out_cuda))\n",
    "\n",
    "t = time.time()\n",
    "loss2 = out_cuda.sum()\n",
    "loss2.backward()\n",
    "torch.cuda.synchronize()\n",
    "print('   cuda bw time', time.time()-t, 's')\n",
    "\n",
    "t = time.time()\n",
    "loss = out_py.sum()\n",
    "loss.backward()\n",
    "torch.cuda.synchronize()\n",
    "print('pytorch bw time', time.time()-t, 's')\n",
    "\n",
    "print('bw all close', torch.allclose(feats.grad, feats2.grad))"
   ]
  }
 ],
 "metadata": {
  "kernelspec": {
   "display_name": "env_cudaext",
   "language": "python",
   "name": "python3"
  },
  "language_info": {
   "codemirror_mode": {
    "name": "ipython",
    "version": 3
   },
   "file_extension": ".py",
   "mimetype": "text/x-python",
   "name": "python",
   "nbconvert_exporter": "python",
   "pygments_lexer": "ipython3",
   "version": "3.10.11"
  }
 },
 "nbformat": 4,
 "nbformat_minor": 2
}
