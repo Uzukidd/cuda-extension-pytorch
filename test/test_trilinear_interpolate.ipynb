{
 "cells": [
  {
   "cell_type": "code",
   "execution_count": 1,
   "metadata": {},
   "outputs": [
    {
     "name": "stdout",
     "output_type": "stream",
     "text": [
      "   cuda fw time 0.007082223892211914 s\n",
      "pytorch fw time 0.02019643783569336 s\n",
      "fw all close True\n",
      "   cuda bw time 0.04685664176940918 s\n",
      "pytorch bw time 0.15795564651489258 s\n",
      "tensor([[ 2.0943, -0.5042, -0.0591],\n",
      "        [ 8.8969,  0.4554,  3.1382],\n",
      "        [-4.4725, -3.8302, -1.1909],\n",
      "        ...,\n",
      "        [-0.3442,  0.5533,  1.2127],\n",
      "        [-1.2295, -0.1724,  1.5378],\n",
      "        [ 0.4441, -0.9800, -1.7823]], device='cuda:0')\n",
      "tensor([[ 2.0943, -0.5042, -0.0591],\n",
      "        [ 8.8969,  0.4554,  3.1382],\n",
      "        [-4.4724, -3.8302, -1.1909],\n",
      "        ...,\n",
      "        [-0.3442,  0.5533,  1.2127],\n",
      "        [-1.2295, -0.1724,  1.5378],\n",
      "        [ 0.4441, -0.9800, -1.7823]], device='cuda:0')\n",
      "bw all close True\n",
      "bw all close True\n"
     ]
    }
   ],
   "source": [
    "import time\n",
    "import torch\n",
    "from cudaext.ops.trilinear_interpolate.trilinear_interpolate_utils import *\n",
    "N = 65536\n",
    "F = 256\n",
    "rand = torch.rand(N, 8, F, device='cuda')\n",
    "feats = rand.clone().requires_grad_()\n",
    "feats2 = rand.clone().requires_grad_()\n",
    "points = torch.rand(N, 3, device='cuda')*2-1\n",
    "points1 = points.clone().requires_grad_()\n",
    "points2 = points.clone().requires_grad_()\n",
    "\n",
    "t = time.time()\n",
    "out_cuda = Trilinear_interpolation_cuda.apply(feats2, points2)\n",
    "torch.cuda.synchronize()\n",
    "print('   cuda fw time', time.time()-t, 's')\n",
    "\n",
    "t = time.time()\n",
    "out_py = trilinear_interpolation_cpu(feats, points1)\n",
    "torch.cuda.synchronize()\n",
    "print('pytorch fw time', time.time()-t, 's')\n",
    "\n",
    "print('fw all close', torch.allclose(out_py, out_cuda))\n",
    "\n",
    "t = time.time()\n",
    "loss2 = out_cuda.sum()\n",
    "loss2.backward()\n",
    "torch.cuda.synchronize()\n",
    "print('   cuda bw time', time.time()-t, 's')\n",
    "\n",
    "t = time.time()\n",
    "loss = out_py.sum()\n",
    "loss.backward()\n",
    "torch.cuda.synchronize()\n",
    "print('pytorch bw time', time.time()-t, 's')\n",
    "print(points1.grad)\n",
    "print(points2.grad)\n",
    "print('bw all close', torch.allclose(feats.grad, feats2.grad))\n",
    "print('bw all close', torch.allclose(points1.grad, points2.grad, atol = 1e-4))"
   ]
  }
 ],
 "metadata": {
  "kernelspec": {
   "display_name": "env_cudaext",
   "language": "python",
   "name": "python3"
  },
  "language_info": {
   "codemirror_mode": {
    "name": "ipython",
    "version": 3
   },
   "file_extension": ".py",
   "mimetype": "text/x-python",
   "name": "python",
   "nbconvert_exporter": "python",
   "pygments_lexer": "ipython3",
   "version": "3.10.11"
  }
 },
 "nbformat": 4,
 "nbformat_minor": 2
}
